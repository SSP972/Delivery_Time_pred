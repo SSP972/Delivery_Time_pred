{
 "cells": [
  {
   "cell_type": "markdown",
   "metadata": {},
   "source": [
    "# EDA"
   ]
  },
  {
   "cell_type": "code",
   "execution_count": 1,
   "metadata": {},
   "outputs": [],
   "source": [
    "# Importing all required library\n",
    "import pandas as pd\n",
    "import numpy as np\n",
    "import seaborn as sns\n",
    "from math import radians, cos, sin, asin, acos, sqrt, pi\n",
    "from geopy import distance\n",
    "from geopy.geocoders import Nominatim\n",
    "import osmnx as ox\n",
    "import networkx as nx\n",
    "from statistics import  mode\n",
    "import matplotlib.pyplot as plt"
   ]
  },
  {
   "cell_type": "code",
   "execution_count": 29,
   "metadata": {},
   "outputs": [],
   "source": [
    "# Reading  Data from csv\n",
    "df=pd.read_csv('/config/workspace/Delivery_Time_prediction/finalTrain.csv')"
   ]
  },
  {
   "cell_type": "code",
   "execution_count": 3,
   "metadata": {},
   "outputs": [],
   "source": [
    "# created function which display unique values\n",
    "def unique_value_count(df_data):\n",
    "    \"\"\"\n",
    "        unique_value_count(df_data) \n",
    "        df_data: DataFrame\n",
    "        Returning the dict of count of unique values in dataset for each feature in the dictionary format\"\"\"\n",
    "    unique_values=dict()\n",
    "    for col in df_data.columns:\n",
    "        unique_values[col]=len(df_data[col].unique())\n",
    "    return unique_values\n"
   ]
  },
  {
   "cell_type": "code",
   "execution_count": 4,
   "metadata": {},
   "outputs": [
    {
     "data": {
      "text/plain": [
       "(45584, 20)"
      ]
     },
     "execution_count": 4,
     "metadata": {},
     "output_type": "execute_result"
    }
   ],
   "source": [
    "# getting shape of dataframe\n",
    "df.shape"
   ]
  },
  {
   "cell_type": "markdown",
   "metadata": {},
   "source": [
    "### Data pre-processing "
   ]
  },
  {
   "cell_type": "code",
   "execution_count": 5,
   "metadata": {},
   "outputs": [
    {
     "data": {
      "text/plain": [
       "Index(['ID', 'Delivery_person_ID', 'Delivery_person_Age',\n",
       "       'Delivery_person_Ratings', 'Restaurant_latitude',\n",
       "       'Restaurant_longitude', 'Delivery_location_latitude',\n",
       "       'Delivery_location_longitude', 'Order_Date', 'Time_Orderd',\n",
       "       'Time_Order_picked', 'Weather_conditions', 'Road_traffic_density',\n",
       "       'Vehicle_condition', 'Type_of_order', 'Type_of_vehicle',\n",
       "       'multiple_deliveries', 'Festival', 'City', 'Time_taken (min)'],\n",
       "      dtype='object')"
      ]
     },
     "execution_count": 5,
     "metadata": {},
     "output_type": "execute_result"
    }
   ],
   "source": [
    "# Displaying all features of raw dataset\n",
    "df.columns"
   ]
  },
  {
   "cell_type": "code",
   "execution_count": 30,
   "metadata": {},
   "outputs": [
    {
     "name": "stdout",
     "output_type": "stream",
     "text": [
      "Delivery_person_Age : 1854\n",
      "Delivery_person_Ratings : 1908\n",
      "Time_Orderd : 1731\n",
      "Weather_conditions : 616\n",
      "Road_traffic_density : 601\n",
      "multiple_deliveries : 993\n",
      "Festival : 228\n",
      "City : 1200\n"
     ]
    }
   ],
   "source": [
    "# Checking null values\n",
    "\n",
    "for col in df.columns:\n",
    "    if df[col].isnull().sum():\n",
    "        print(f\"{col} : {df[col].isnull().sum()}\")\n",
    "\n"
   ]
  },
  {
   "cell_type": "code",
   "execution_count": 7,
   "metadata": {},
   "outputs": [
    {
     "data": {
      "text/plain": [
       "ID                              object\n",
       "Delivery_person_ID              object\n",
       "Delivery_person_Age            float64\n",
       "Delivery_person_Ratings        float64\n",
       "Restaurant_latitude            float64\n",
       "Restaurant_longitude           float64\n",
       "Delivery_location_latitude     float64\n",
       "Delivery_location_longitude    float64\n",
       "Order_Date                      object\n",
       "Time_Orderd                     object\n",
       "Time_Order_picked               object\n",
       "Weather_conditions              object\n",
       "Road_traffic_density            object\n",
       "Vehicle_condition                int64\n",
       "Type_of_order                   object\n",
       "Type_of_vehicle                 object\n",
       "multiple_deliveries            float64\n",
       "Festival                        object\n",
       "City                            object\n",
       "Time_taken (min)                 int64\n",
       "dtype: object"
      ]
     },
     "execution_count": 7,
     "metadata": {},
     "output_type": "execute_result"
    }
   ],
   "source": [
    "df.dtypes"
   ]
  },
  {
   "cell_type": "markdown",
   "metadata": {},
   "source": [
    "dropping ID and Delivery_person_ID Column as it is irrelevant for our analysis\n",
    "\n",
    "    * Assuming that each delivery person is working with same pace"
   ]
  },
  {
   "cell_type": "code",
   "execution_count": 8,
   "metadata": {},
   "outputs": [],
   "source": [
    "\n",
    "df.drop(['ID','Delivery_person_ID'],inplace=True,axis=1)"
   ]
  },
  {
   "cell_type": "markdown",
   "metadata": {},
   "source": [
    "Creating time taken for pickup the order from restaurant "
   ]
  },
  {
   "cell_type": "code",
   "execution_count": 9,
   "metadata": {},
   "outputs": [],
   "source": [
    "\n",
    "df['Time_Orderd']=df['Time_Orderd'].apply( lambda x:  (float(x.split(\":\")[0]) * 60 + (float(x.split(\":\")[1]))) if ((isinstance(x,str))and(\":\" in x))   else np.nan  )\n",
    "df['Time_Order_picked']=df['Time_Order_picked'].apply( lambda x:  (float(x.split(\":\")[0]) * 60 + (float(x.split(\":\")[1]))) if ((isinstance(x,str))and(\":\" in x))   else np.nan  )\n",
    "\n",
    "df['Time_pickup_(Min)']=df['Time_Order_picked']-df['Time_Orderd']       # Converting both features into single feature\n",
    "df['Time_pickup_(Min)']=df['Time_pickup_(Min)'].fillna(round(np.mean(df['Time_pickup_(Min)']),2))                     # handling missing value in that feature\n",
    "df.drop(['Time_Orderd','Time_Order_picked'],inplace=True,axis=1)"
   ]
  },
  {
   "cell_type": "markdown",
   "metadata": {},
   "source": [
    "Splitting Date in Day Month Year in seperate columns"
   ]
  },
  {
   "cell_type": "code",
   "execution_count": 10,
   "metadata": {},
   "outputs": [
    {
     "data": {
      "text/plain": [
       "array(['2022'], dtype=object)"
      ]
     },
     "execution_count": 10,
     "metadata": {},
     "output_type": "execute_result"
    }
   ],
   "source": [
    "df['Order_Date'].apply(lambda x: x.split(\"-\")[2]).unique()"
   ]
  },
  {
   "cell_type": "markdown",
   "metadata": {},
   "source": [
    "There is only single year so we can skip making year column"
   ]
  },
  {
   "cell_type": "code",
   "execution_count": 11,
   "metadata": {},
   "outputs": [],
   "source": [
    "\n",
    "df['Order_Day']=df['Order_Date'].apply(lambda x: int(x.split(\"-\")[0]))\n",
    "df['Order_Month']=df['Order_Date'].apply(lambda x: int(x.split(\"-\")[1]))\n",
    "df.drop('Order_Date',inplace=True,axis=1)\n"
   ]
  },
  {
   "cell_type": "markdown",
   "metadata": {},
   "source": [
    "Getting dilivery distance "
   ]
  },
  {
   "cell_type": "code",
   "execution_count": 25,
   "metadata": {},
   "outputs": [],
   "source": [
    "\n",
    "def calculate_spherical_distance(lat1, lon1, lat2, lon2, r=6371):\n",
    "    # Convert degrees to radians\n",
    "    coordinates = lat1, lon1, lat2, lon2\n",
    "    # radians(c) is same as c*pi/180\n",
    "    phi1, lambda1, phi2, lambda2 = [\n",
    "        radians(c) for c in coordinates\n",
    "    ]  \n",
    "    \n",
    "    # Apply the haversine formula\n",
    "    a = (np.square(sin((phi2-phi1)/2)) + cos(phi1) * cos(phi2) * \n",
    "         np.square(sin((lambda2-lambda1)/2)))\n",
    "    d = 2*r*asin(np.sqrt(a))\n",
    "    return d"
   ]
  },
  {
   "cell_type": "code",
   "execution_count": null,
   "metadata": {},
   "outputs": [],
   "source": []
  },
  {
   "cell_type": "code",
   "execution_count": 13,
   "metadata": {},
   "outputs": [],
   "source": [
    "# Appending distance to list \n",
    "Dist_list=list()\n",
    "for lat1,lon1,lat2,lon2 in df[['Restaurant_latitude'\t,'Restaurant_longitude'\t,'Delivery_location_latitude'\t,'Delivery_location_longitude']].values:\n",
    "    Dist_list.append(round(calculate_spherical_distance(lat1,lon1,lat2,lon2),2))\n",
    "df['Distance']=np.array(Dist_list)\n",
    "df.drop(['Restaurant_latitude'\t,'Restaurant_longitude'\t,'Delivery_location_latitude'\t,'Delivery_location_longitude'],inplace=True,axis=1)"
   ]
  },
  {
   "cell_type": "code",
   "execution_count": 26,
   "metadata": {},
   "outputs": [],
   "source": [
    "from sklearn.pipeline import Pipeline,FunctionTransformer\n",
    "\n",
    "# Define the pipeline\n",
    "pipeline = Pipeline([\n",
    "    ('distance', FunctionTransformer(lambda x: x.assign(Distance=[round(calculate_spherical_distance(*row), 2) \n",
    "    \n",
    "    for row in \n",
    "    x[['Restaurant_latitude', 'Restaurant_longitude', 'Delivery_location_latitude', 'Delivery_location_longitude']].values]))),\n",
    "    \n",
    "    \n",
    "    ('drop_cols', FunctionTransformer(lambda x: x.drop(['Restaurant_latitude', 'Restaurant_longitude', 'Delivery_location_latitude', 'Delivery_location_longitude'], axis=1)))\n",
    "])\n",
    "\n",
    "# Fit and transform the pipeline on the input dataframe\n",
    "df = pipeline.fit_transform(df)"
   ]
  },
  {
   "cell_type": "code",
   "execution_count": 27,
   "metadata": {},
   "outputs": [
    {
     "data": {
      "text/html": [
       "<div>\n",
       "<style scoped>\n",
       "    .dataframe tbody tr th:only-of-type {\n",
       "        vertical-align: middle;\n",
       "    }\n",
       "\n",
       "    .dataframe tbody tr th {\n",
       "        vertical-align: top;\n",
       "    }\n",
       "\n",
       "    .dataframe thead th {\n",
       "        text-align: right;\n",
       "    }\n",
       "</style>\n",
       "<table border=\"1\" class=\"dataframe\">\n",
       "  <thead>\n",
       "    <tr style=\"text-align: right;\">\n",
       "      <th></th>\n",
       "      <th>ID</th>\n",
       "      <th>Delivery_person_ID</th>\n",
       "      <th>Delivery_person_Age</th>\n",
       "      <th>Delivery_person_Ratings</th>\n",
       "      <th>Order_Date</th>\n",
       "      <th>Time_Orderd</th>\n",
       "      <th>Time_Order_picked</th>\n",
       "      <th>Weather_conditions</th>\n",
       "      <th>Road_traffic_density</th>\n",
       "      <th>Vehicle_condition</th>\n",
       "      <th>Type_of_order</th>\n",
       "      <th>Type_of_vehicle</th>\n",
       "      <th>multiple_deliveries</th>\n",
       "      <th>Festival</th>\n",
       "      <th>City</th>\n",
       "      <th>Time_taken (min)</th>\n",
       "      <th>Distance</th>\n",
       "    </tr>\n",
       "  </thead>\n",
       "  <tbody>\n",
       "    <tr>\n",
       "      <th>0</th>\n",
       "      <td>0xcdcd</td>\n",
       "      <td>DEHRES17DEL01</td>\n",
       "      <td>36.0</td>\n",
       "      <td>4.2</td>\n",
       "      <td>12-02-2022</td>\n",
       "      <td>21:55</td>\n",
       "      <td>22:10</td>\n",
       "      <td>Fog</td>\n",
       "      <td>Jam</td>\n",
       "      <td>2</td>\n",
       "      <td>Snack</td>\n",
       "      <td>motorcycle</td>\n",
       "      <td>3.0</td>\n",
       "      <td>No</td>\n",
       "      <td>Metropolitian</td>\n",
       "      <td>46</td>\n",
       "      <td>10.28</td>\n",
       "    </tr>\n",
       "    <tr>\n",
       "      <th>1</th>\n",
       "      <td>0xd987</td>\n",
       "      <td>KOCRES16DEL01</td>\n",
       "      <td>21.0</td>\n",
       "      <td>4.7</td>\n",
       "      <td>13-02-2022</td>\n",
       "      <td>14:55</td>\n",
       "      <td>15:05</td>\n",
       "      <td>Stormy</td>\n",
       "      <td>High</td>\n",
       "      <td>1</td>\n",
       "      <td>Meal</td>\n",
       "      <td>motorcycle</td>\n",
       "      <td>1.0</td>\n",
       "      <td>No</td>\n",
       "      <td>Metropolitian</td>\n",
       "      <td>23</td>\n",
       "      <td>6.24</td>\n",
       "    </tr>\n",
       "    <tr>\n",
       "      <th>2</th>\n",
       "      <td>0x2784</td>\n",
       "      <td>PUNERES13DEL03</td>\n",
       "      <td>23.0</td>\n",
       "      <td>4.7</td>\n",
       "      <td>04-03-2022</td>\n",
       "      <td>17:30</td>\n",
       "      <td>17:40</td>\n",
       "      <td>Sandstorms</td>\n",
       "      <td>Medium</td>\n",
       "      <td>1</td>\n",
       "      <td>Drinks</td>\n",
       "      <td>scooter</td>\n",
       "      <td>1.0</td>\n",
       "      <td>No</td>\n",
       "      <td>Metropolitian</td>\n",
       "      <td>21</td>\n",
       "      <td>13.79</td>\n",
       "    </tr>\n",
       "    <tr>\n",
       "      <th>3</th>\n",
       "      <td>0xc8b6</td>\n",
       "      <td>LUDHRES15DEL02</td>\n",
       "      <td>34.0</td>\n",
       "      <td>4.3</td>\n",
       "      <td>13-02-2022</td>\n",
       "      <td>09:20</td>\n",
       "      <td>09:30</td>\n",
       "      <td>Sandstorms</td>\n",
       "      <td>Low</td>\n",
       "      <td>0</td>\n",
       "      <td>Buffet</td>\n",
       "      <td>motorcycle</td>\n",
       "      <td>0.0</td>\n",
       "      <td>No</td>\n",
       "      <td>Metropolitian</td>\n",
       "      <td>20</td>\n",
       "      <td>2.93</td>\n",
       "    </tr>\n",
       "    <tr>\n",
       "      <th>4</th>\n",
       "      <td>0xdb64</td>\n",
       "      <td>KNPRES14DEL02</td>\n",
       "      <td>24.0</td>\n",
       "      <td>4.7</td>\n",
       "      <td>14-02-2022</td>\n",
       "      <td>19:50</td>\n",
       "      <td>20:05</td>\n",
       "      <td>Fog</td>\n",
       "      <td>Jam</td>\n",
       "      <td>1</td>\n",
       "      <td>Snack</td>\n",
       "      <td>scooter</td>\n",
       "      <td>1.0</td>\n",
       "      <td>No</td>\n",
       "      <td>Metropolitian</td>\n",
       "      <td>41</td>\n",
       "      <td>19.40</td>\n",
       "    </tr>\n",
       "    <tr>\n",
       "      <th>...</th>\n",
       "      <td>...</td>\n",
       "      <td>...</td>\n",
       "      <td>...</td>\n",
       "      <td>...</td>\n",
       "      <td>...</td>\n",
       "      <td>...</td>\n",
       "      <td>...</td>\n",
       "      <td>...</td>\n",
       "      <td>...</td>\n",
       "      <td>...</td>\n",
       "      <td>...</td>\n",
       "      <td>...</td>\n",
       "      <td>...</td>\n",
       "      <td>...</td>\n",
       "      <td>...</td>\n",
       "      <td>...</td>\n",
       "      <td>...</td>\n",
       "    </tr>\n",
       "    <tr>\n",
       "      <th>45579</th>\n",
       "      <td>0x7c09</td>\n",
       "      <td>JAPRES04DEL01</td>\n",
       "      <td>30.0</td>\n",
       "      <td>4.8</td>\n",
       "      <td>24-03-2022</td>\n",
       "      <td>11:35</td>\n",
       "      <td>11:45</td>\n",
       "      <td>Windy</td>\n",
       "      <td>High</td>\n",
       "      <td>1</td>\n",
       "      <td>Meal</td>\n",
       "      <td>motorcycle</td>\n",
       "      <td>0.0</td>\n",
       "      <td>No</td>\n",
       "      <td>Metropolitian</td>\n",
       "      <td>32</td>\n",
       "      <td>1.49</td>\n",
       "    </tr>\n",
       "    <tr>\n",
       "      <th>45580</th>\n",
       "      <td>0xd641</td>\n",
       "      <td>AGRRES16DEL01</td>\n",
       "      <td>21.0</td>\n",
       "      <td>4.6</td>\n",
       "      <td>16-02-2022</td>\n",
       "      <td>19:55</td>\n",
       "      <td>20:10</td>\n",
       "      <td>Windy</td>\n",
       "      <td>Jam</td>\n",
       "      <td>0</td>\n",
       "      <td>Buffet</td>\n",
       "      <td>motorcycle</td>\n",
       "      <td>1.0</td>\n",
       "      <td>No</td>\n",
       "      <td>Metropolitian</td>\n",
       "      <td>36</td>\n",
       "      <td>11.01</td>\n",
       "    </tr>\n",
       "    <tr>\n",
       "      <th>45581</th>\n",
       "      <td>0x4f8d</td>\n",
       "      <td>CHENRES08DEL03</td>\n",
       "      <td>30.0</td>\n",
       "      <td>4.9</td>\n",
       "      <td>11-03-2022</td>\n",
       "      <td>23:50</td>\n",
       "      <td>24:05:00</td>\n",
       "      <td>Cloudy</td>\n",
       "      <td>Low</td>\n",
       "      <td>1</td>\n",
       "      <td>Drinks</td>\n",
       "      <td>scooter</td>\n",
       "      <td>0.0</td>\n",
       "      <td>No</td>\n",
       "      <td>Metropolitian</td>\n",
       "      <td>16</td>\n",
       "      <td>4.66</td>\n",
       "    </tr>\n",
       "    <tr>\n",
       "      <th>45582</th>\n",
       "      <td>0x5eee</td>\n",
       "      <td>COIMBRES11DEL01</td>\n",
       "      <td>20.0</td>\n",
       "      <td>4.7</td>\n",
       "      <td>07-03-2022</td>\n",
       "      <td>13:35</td>\n",
       "      <td>13:40</td>\n",
       "      <td>Cloudy</td>\n",
       "      <td>High</td>\n",
       "      <td>0</td>\n",
       "      <td>Snack</td>\n",
       "      <td>motorcycle</td>\n",
       "      <td>1.0</td>\n",
       "      <td>No</td>\n",
       "      <td>Metropolitian</td>\n",
       "      <td>26</td>\n",
       "      <td>6.23</td>\n",
       "    </tr>\n",
       "    <tr>\n",
       "      <th>45583</th>\n",
       "      <td>0x5fb2</td>\n",
       "      <td>RANCHIRES09DEL02</td>\n",
       "      <td>23.0</td>\n",
       "      <td>4.9</td>\n",
       "      <td>02-03-2022</td>\n",
       "      <td>17:10</td>\n",
       "      <td>17:15</td>\n",
       "      <td>Fog</td>\n",
       "      <td>Medium</td>\n",
       "      <td>2</td>\n",
       "      <td>Snack</td>\n",
       "      <td>scooter</td>\n",
       "      <td>1.0</td>\n",
       "      <td>No</td>\n",
       "      <td>Metropolitian</td>\n",
       "      <td>36</td>\n",
       "      <td>12.07</td>\n",
       "    </tr>\n",
       "  </tbody>\n",
       "</table>\n",
       "<p>45584 rows × 17 columns</p>\n",
       "</div>"
      ],
      "text/plain": [
       "           ID Delivery_person_ID  Delivery_person_Age   \n",
       "0      0xcdcd      DEHRES17DEL01                 36.0  \\\n",
       "1      0xd987      KOCRES16DEL01                 21.0   \n",
       "2      0x2784     PUNERES13DEL03                 23.0   \n",
       "3      0xc8b6     LUDHRES15DEL02                 34.0   \n",
       "4      0xdb64      KNPRES14DEL02                 24.0   \n",
       "...       ...                ...                  ...   \n",
       "45579  0x7c09      JAPRES04DEL01                 30.0   \n",
       "45580  0xd641      AGRRES16DEL01                 21.0   \n",
       "45581  0x4f8d     CHENRES08DEL03                 30.0   \n",
       "45582  0x5eee    COIMBRES11DEL01                 20.0   \n",
       "45583  0x5fb2   RANCHIRES09DEL02                 23.0   \n",
       "\n",
       "       Delivery_person_Ratings  Order_Date Time_Orderd Time_Order_picked   \n",
       "0                          4.2  12-02-2022       21:55             22:10  \\\n",
       "1                          4.7  13-02-2022       14:55             15:05   \n",
       "2                          4.7  04-03-2022       17:30             17:40   \n",
       "3                          4.3  13-02-2022       09:20             09:30   \n",
       "4                          4.7  14-02-2022       19:50             20:05   \n",
       "...                        ...         ...         ...               ...   \n",
       "45579                      4.8  24-03-2022       11:35             11:45   \n",
       "45580                      4.6  16-02-2022       19:55             20:10   \n",
       "45581                      4.9  11-03-2022       23:50          24:05:00   \n",
       "45582                      4.7  07-03-2022       13:35             13:40   \n",
       "45583                      4.9  02-03-2022       17:10             17:15   \n",
       "\n",
       "      Weather_conditions Road_traffic_density  Vehicle_condition   \n",
       "0                    Fog                  Jam                  2  \\\n",
       "1                 Stormy                 High                  1   \n",
       "2             Sandstorms               Medium                  1   \n",
       "3             Sandstorms                  Low                  0   \n",
       "4                    Fog                  Jam                  1   \n",
       "...                  ...                  ...                ...   \n",
       "45579              Windy                 High                  1   \n",
       "45580              Windy                  Jam                  0   \n",
       "45581             Cloudy                  Low                  1   \n",
       "45582             Cloudy                 High                  0   \n",
       "45583                Fog               Medium                  2   \n",
       "\n",
       "      Type_of_order Type_of_vehicle  multiple_deliveries Festival   \n",
       "0             Snack      motorcycle                  3.0       No  \\\n",
       "1              Meal      motorcycle                  1.0       No   \n",
       "2            Drinks         scooter                  1.0       No   \n",
       "3            Buffet      motorcycle                  0.0       No   \n",
       "4             Snack         scooter                  1.0       No   \n",
       "...             ...             ...                  ...      ...   \n",
       "45579          Meal      motorcycle                  0.0       No   \n",
       "45580        Buffet      motorcycle                  1.0       No   \n",
       "45581        Drinks         scooter                  0.0       No   \n",
       "45582         Snack      motorcycle                  1.0       No   \n",
       "45583         Snack         scooter                  1.0       No   \n",
       "\n",
       "                City  Time_taken (min)  Distance  \n",
       "0      Metropolitian                46     10.28  \n",
       "1      Metropolitian                23      6.24  \n",
       "2      Metropolitian                21     13.79  \n",
       "3      Metropolitian                20      2.93  \n",
       "4      Metropolitian                41     19.40  \n",
       "...              ...               ...       ...  \n",
       "45579  Metropolitian                32      1.49  \n",
       "45580  Metropolitian                36     11.01  \n",
       "45581  Metropolitian                16      4.66  \n",
       "45582  Metropolitian                26      6.23  \n",
       "45583  Metropolitian                36     12.07  \n",
       "\n",
       "[45584 rows x 17 columns]"
      ]
     },
     "execution_count": 27,
     "metadata": {},
     "output_type": "execute_result"
    }
   ],
   "source": [
    "df"
   ]
  },
  {
   "cell_type": "code",
   "execution_count": null,
   "metadata": {},
   "outputs": [
    {
     "data": {
      "text/plain": [
       "{'Delivery_person_Age': 23,\n",
       " 'Delivery_person_Ratings': 29,\n",
       " 'Weather_conditions': 7,\n",
       " 'Road_traffic_density': 5,\n",
       " 'Vehicle_condition': 4,\n",
       " 'Type_of_order': 4,\n",
       " 'Type_of_vehicle': 4,\n",
       " 'multiple_deliveries': 5,\n",
       " 'Festival': 3,\n",
       " 'City': 4,\n",
       " 'Time_taken (min)': 45,\n",
       " 'Time_pickup_(Min)': 4,\n",
       " 'Order_Day': 30,\n",
       " 'Order_Month': 3,\n",
       " 'Distance': 684}"
      ]
     },
     "execution_count": 14,
     "metadata": {},
     "output_type": "execute_result"
    }
   ],
   "source": [
    "# Getting all unique value count\n",
    "unique_value_count(df)"
   ]
  },
  {
   "cell_type": "markdown",
   "metadata": {},
   "source": [
    "Handlling missing values of Deliverry person age and his rating with mean and mode resptively."
   ]
  },
  {
   "cell_type": "code",
   "execution_count": null,
   "metadata": {},
   "outputs": [],
   "source": [
    "\n",
    "df['Delivery_person_Age']=df['Delivery_person_Age'].fillna(np.mean(df['Delivery_person_Age']))\n",
    "\n",
    "df['Delivery_person_Ratings']=df['Delivery_person_Ratings'].fillna(np.mean(df['Delivery_person_Ratings']))"
   ]
  },
  {
   "cell_type": "markdown",
   "metadata": {},
   "source": [
    "Handlling misssing values of multile delivery with mode value "
   ]
  },
  {
   "cell_type": "code",
   "execution_count": null,
   "metadata": {},
   "outputs": [],
   "source": [
    "df.multiple_deliveries.fillna(mode(df.multiple_deliveries),inplace=True)"
   ]
  },
  {
   "cell_type": "markdown",
   "metadata": {},
   "source": [
    "Handlling the Festival feature for yes no values and missing values"
   ]
  },
  {
   "cell_type": "code",
   "execution_count": null,
   "metadata": {},
   "outputs": [
    {
     "data": {
      "text/plain": [
       "Festival\n",
       "No     44460\n",
       "Yes      896\n",
       "Name: count, dtype: int64"
      ]
     },
     "execution_count": 17,
     "metadata": {},
     "output_type": "execute_result"
    }
   ],
   "source": [
    "df['Festival'].value_counts()\n",
    "# .plot(kind='bar',figsize=(3,3))"
   ]
  },
  {
   "cell_type": "markdown",
   "metadata": {},
   "source": [
    "from obersation that more than 90% of the dataset is of no festival, hence we can give missing value as No  "
   ]
  },
  {
   "cell_type": "code",
   "execution_count": null,
   "metadata": {},
   "outputs": [],
   "source": [
    "df['Festival']=df['Festival'].fillna(mode(df['Festival']))"
   ]
  },
  {
   "cell_type": "code",
   "execution_count": null,
   "metadata": {},
   "outputs": [],
   "source": []
  },
  {
   "cell_type": "markdown",
   "metadata": {},
   "source": [
    "Handlling missing values of weather_condition feature "
   ]
  },
  {
   "cell_type": "code",
   "execution_count": null,
   "metadata": {},
   "outputs": [
    {
     "data": {
      "text/plain": [
       "count     44968\n",
       "unique        6\n",
       "top         Fog\n",
       "freq       7653\n",
       "Name: Weather_conditions, dtype: object"
      ]
     },
     "execution_count": 19,
     "metadata": {},
     "output_type": "execute_result"
    },
    {
     "data": {
      "image/png": "[encoded data removed]",
      "text/plain": [
       "<Figure size 640x480 with 1 Axes>"
      ]
     },
     "metadata": {},
     "output_type": "display_data"
    }
   ],
   "source": [
    "df['Weather_conditions'].value_counts().plot()\n",
    "\n",
    "df['Weather_conditions'].describe()"
   ]
  },
  {
   "cell_type": "markdown",
   "metadata": {},
   "source": [
    "From observation we can conclude that all categories are almost evenly distributed where sunny weather is least, to avoid bais we are using mode to replace missing values"
   ]
  },
  {
   "cell_type": "code",
   "execution_count": null,
   "metadata": {},
   "outputs": [],
   "source": [
    "df['Weather_conditions']=df['Weather_conditions'].fillna(mode(df['Weather_conditions']))"
   ]
  },
  {
   "cell_type": "markdown",
   "metadata": {},
   "source": [
    "Handlling road traffic density missing values"
   ]
  },
  {
   "cell_type": "code",
   "execution_count": null,
   "metadata": {},
   "outputs": [
    {
     "data": {
      "text/plain": [
       "<Axes: xlabel='Road_traffic_density'>"
      ]
     },
     "execution_count": 21,
     "metadata": {},
     "output_type": "execute_result"
    },
    {
     "data": {
      "image/png": "[encoded data removed]",
      "text/plain": [
       "<Figure size 640x480 with 1 Axes>"
      ]
     },
     "metadata": {},
     "output_type": "display_data"
    }
   ],
   "source": [
    "df['Road_traffic_density'].value_counts().plot(kind='bar')"
   ]
  },
  {
   "cell_type": "markdown",
   "metadata": {},
   "source": [
    "Here we can observe data is not evenly spread for high traffic density data is less, we are applying max frequent variable to replace the missing values"
   ]
  },
  {
   "cell_type": "code",
   "execution_count": null,
   "metadata": {},
   "outputs": [],
   "source": [
    "df['Road_traffic_density']=df['Road_traffic_density'].fillna(mode(df['Road_traffic_density']))"
   ]
  },
  {
   "cell_type": "markdown",
   "metadata": {},
   "source": [
    "Handlling City feature missing values"
   ]
  },
  {
   "cell_type": "code",
   "execution_count": null,
   "metadata": {},
   "outputs": [
    {
     "data": {
      "text/plain": [
       "count             44384\n",
       "unique                3\n",
       "top       Metropolitian\n",
       "freq              34087\n",
       "Name: City, dtype: object"
      ]
     },
     "execution_count": 23,
     "metadata": {},
     "output_type": "execute_result"
    },
    {
     "data": {
      "image/png": "[encoded data removed]",
      "text/plain": [
       "<Figure size 640x480 with 1 Axes>"
      ]
     },
     "metadata": {},
     "output_type": "display_data"
    }
   ],
   "source": [
    "\n",
    "df.City.value_counts().plot(kind='bar')\n",
    "df.City.describe()"
   ]
  },
  {
   "cell_type": "markdown",
   "metadata": {},
   "source": [
    "Replacing missing values with mode "
   ]
  },
  {
   "cell_type": "code",
   "execution_count": null,
   "metadata": {},
   "outputs": [],
   "source": [
    "df['City']=df['City'].fillna(mode(df['City']))"
   ]
  },
  {
   "cell_type": "code",
   "execution_count": null,
   "metadata": {},
   "outputs": [],
   "source": [
    "# sns.pairplot(df)"
   ]
  },
  {
   "cell_type": "code",
   "execution_count": null,
   "metadata": {},
   "outputs": [
    {
     "name": "stdout",
     "output_type": "stream",
     "text": [
      "Numerical columns: Index(['Delivery_person_Age', 'Delivery_person_Ratings', 'Vehicle_condition',\n",
      "       'multiple_deliveries', 'Time_taken (min)', 'Time_pickup_(Min)',\n",
      "       'Order_Day', 'Order_Month', 'Distance'],\n",
      "      dtype='object')\n",
      "Categorical Columns: Index(['Weather_conditions', 'Road_traffic_density', 'Type_of_order',\n",
      "       'Type_of_vehicle', 'Festival', 'City'],\n",
      "      dtype='object')\n"
     ]
    }
   ],
   "source": [
    "## segregate numerical and categorical columns\n",
    "\n",
    "numerical_columns=df.columns[df.dtypes!='object']\n",
    "categorical_columns=df.columns[df.dtypes=='object']\n",
    "print(\"Numerical columns:\",numerical_columns)\n",
    "print('Categorical Columns:',categorical_columns)"
   ]
  },
  {
   "cell_type": "code",
   "execution_count": null,
   "metadata": {},
   "outputs": [
    {
     "data": {
      "text/html": [
       "<div>\n",
       "<style scoped>\n",
       "    .dataframe tbody tr th:only-of-type {\n",
       "        vertical-align: middle;\n",
       "    }\n",
       "\n",
       "    .dataframe tbody tr th {\n",
       "        vertical-align: top;\n",
       "    }\n",
       "\n",
       "    .dataframe thead th {\n",
       "        text-align: right;\n",
       "    }\n",
       "</style>\n",
       "<table border=\"1\" class=\"dataframe\">\n",
       "  <thead>\n",
       "    <tr style=\"text-align: right;\">\n",
       "      <th></th>\n",
       "      <th>count</th>\n",
       "      <th>mean</th>\n",
       "      <th>std</th>\n",
       "      <th>min</th>\n",
       "      <th>25%</th>\n",
       "      <th>50%</th>\n",
       "      <th>75%</th>\n",
       "      <th>max</th>\n",
       "    </tr>\n",
       "  </thead>\n",
       "  <tbody>\n",
       "    <tr>\n",
       "      <th>Delivery_person_Age</th>\n",
       "      <td>45584.0</td>\n",
       "      <td>29.566911</td>\n",
       "      <td>5.695578</td>\n",
       "      <td>15.00</td>\n",
       "      <td>25.00</td>\n",
       "      <td>29.566911</td>\n",
       "      <td>34.00</td>\n",
       "      <td>50.00</td>\n",
       "    </tr>\n",
       "    <tr>\n",
       "      <th>Delivery_person_Ratings</th>\n",
       "      <td>45584.0</td>\n",
       "      <td>4.633774</td>\n",
       "      <td>0.327663</td>\n",
       "      <td>1.00</td>\n",
       "      <td>4.60</td>\n",
       "      <td>4.700000</td>\n",
       "      <td>4.80</td>\n",
       "      <td>6.00</td>\n",
       "    </tr>\n",
       "    <tr>\n",
       "      <th>Vehicle_condition</th>\n",
       "      <td>45584.0</td>\n",
       "      <td>1.023385</td>\n",
       "      <td>0.839055</td>\n",
       "      <td>0.00</td>\n",
       "      <td>0.00</td>\n",
       "      <td>1.000000</td>\n",
       "      <td>2.00</td>\n",
       "      <td>3.00</td>\n",
       "    </tr>\n",
       "    <tr>\n",
       "      <th>multiple_deliveries</th>\n",
       "      <td>45584.0</td>\n",
       "      <td>0.750197</td>\n",
       "      <td>0.567465</td>\n",
       "      <td>0.00</td>\n",
       "      <td>0.00</td>\n",
       "      <td>1.000000</td>\n",
       "      <td>1.00</td>\n",
       "      <td>3.00</td>\n",
       "    </tr>\n",
       "    <tr>\n",
       "      <th>Time_taken (min)</th>\n",
       "      <td>45584.0</td>\n",
       "      <td>26.293963</td>\n",
       "      <td>9.384298</td>\n",
       "      <td>10.00</td>\n",
       "      <td>19.00</td>\n",
       "      <td>26.000000</td>\n",
       "      <td>32.00</td>\n",
       "      <td>54.00</td>\n",
       "    </tr>\n",
       "    <tr>\n",
       "      <th>Time_pickup_(Min)</th>\n",
       "      <td>45584.0</td>\n",
       "      <td>9.983759</td>\n",
       "      <td>3.623117</td>\n",
       "      <td>5.00</td>\n",
       "      <td>5.00</td>\n",
       "      <td>10.000000</td>\n",
       "      <td>15.00</td>\n",
       "      <td>15.00</td>\n",
       "    </tr>\n",
       "    <tr>\n",
       "      <th>Order_Day</th>\n",
       "      <td>45584.0</td>\n",
       "      <td>13.810920</td>\n",
       "      <td>8.708532</td>\n",
       "      <td>1.00</td>\n",
       "      <td>6.00</td>\n",
       "      <td>13.000000</td>\n",
       "      <td>20.00</td>\n",
       "      <td>31.00</td>\n",
       "    </tr>\n",
       "    <tr>\n",
       "      <th>Order_Month</th>\n",
       "      <td>45584.0</td>\n",
       "      <td>2.980673</td>\n",
       "      <td>0.545939</td>\n",
       "      <td>2.00</td>\n",
       "      <td>3.00</td>\n",
       "      <td>3.000000</td>\n",
       "      <td>3.00</td>\n",
       "      <td>4.00</td>\n",
       "    </tr>\n",
       "    <tr>\n",
       "      <th>Distance</th>\n",
       "      <td>45584.0</td>\n",
       "      <td>99.321338</td>\n",
       "      <td>1099.839158</td>\n",
       "      <td>1.47</td>\n",
       "      <td>4.66</td>\n",
       "      <td>9.260000</td>\n",
       "      <td>13.76</td>\n",
       "      <td>19692.67</td>\n",
       "    </tr>\n",
       "  </tbody>\n",
       "</table>\n",
       "</div>"
      ],
      "text/plain": [
       "                           count       mean          std    min    25%   \n",
       "Delivery_person_Age      45584.0  29.566911     5.695578  15.00  25.00  \\\n",
       "Delivery_person_Ratings  45584.0   4.633774     0.327663   1.00   4.60   \n",
       "Vehicle_condition        45584.0   1.023385     0.839055   0.00   0.00   \n",
       "multiple_deliveries      45584.0   0.750197     0.567465   0.00   0.00   \n",
       "Time_taken (min)         45584.0  26.293963     9.384298  10.00  19.00   \n",
       "Time_pickup_(Min)        45584.0   9.983759     3.623117   5.00   5.00   \n",
       "Order_Day                45584.0  13.810920     8.708532   1.00   6.00   \n",
       "Order_Month              45584.0   2.980673     0.545939   2.00   3.00   \n",
       "Distance                 45584.0  99.321338  1099.839158   1.47   4.66   \n",
       "\n",
       "                               50%    75%       max  \n",
       "Delivery_person_Age      29.566911  34.00     50.00  \n",
       "Delivery_person_Ratings   4.700000   4.80      6.00  \n",
       "Vehicle_condition         1.000000   2.00      3.00  \n",
       "multiple_deliveries       1.000000   1.00      3.00  \n",
       "Time_taken (min)         26.000000  32.00     54.00  \n",
       "Time_pickup_(Min)        10.000000  15.00     15.00  \n",
       "Order_Day                13.000000  20.00     31.00  \n",
       "Order_Month               3.000000   3.00      4.00  \n",
       "Distance                  9.260000  13.76  19692.67  "
      ]
     },
     "execution_count": 91,
     "metadata": {},
     "output_type": "execute_result"
    }
   ],
   "source": [
    "# Checking the dataset discrepancies \n",
    "df[numerical_columns].describe().T"
   ]
  },
  {
   "cell_type": "markdown",
   "metadata": {},
   "source": [
    "#Oservation \n",
    "\n",
    "We need to handlling the outlliers for distance \n"
   ]
  },
  {
   "cell_type": "code",
   "execution_count": null,
   "metadata": {},
   "outputs": [
    {
     "ename": "",
     "evalue": "",
     "output_type": "error",
     "traceback": [
      "\u001b[1;31mCanceled future for execute_request message before replies were done"
     ]
    },
    {
     "ename": "",
     "evalue": "",
     "output_type": "error",
     "traceback": [
      "\u001b[1;31mThe Kernel crashed while executing code in the the current cell or a previous cell. Please review the code in the cell(s) to identify a possible cause of the failure. Click <a href='https://aka.ms/vscodeJupyterKernelCrash'>here</a> for more info. View Jupyter <a href='command:jupyter.viewOutput'>log</a> for further details."
     ]
    }
   ],
   "source": [
    "plt.figure(figsize=(15,50), facecolor='white')\n",
    "plotnumber =1\n",
    "\n",
    "for column in numerical_columns:\n",
    "    ax = plt.subplot(12,3,plotnumber)\n",
    "    sns.histplot(df[column],kde=True)\n",
    "    plt.xlabel(column,fontsize=10)\n",
    "    plotnumber+=1\n",
    "plt.show()"
   ]
  },
  {
   "cell_type": "markdown",
   "metadata": {},
   "source": [
    "Converting Data set to CSV format"
   ]
  },
  {
   "cell_type": "code",
   "execution_count": null,
   "metadata": {},
   "outputs": [],
   "source": [
    "# df.to_csv(\"data/Final_Raw.csv\",index=False)"
   ]
  },
  {
   "cell_type": "code",
   "execution_count": null,
   "metadata": {},
   "outputs": [],
   "source": []
  },
  {
   "cell_type": "code",
   "execution_count": null,
   "metadata": {},
   "outputs": [],
   "source": []
  },
  {
   "cell_type": "code",
   "execution_count": null,
   "metadata": {},
   "outputs": [],
   "source": []
  }
 ],
 "metadata": {
  "kernelspec": {
   "display_name": "Python 3.8.10 64-bit",
   "language": "python",
   "name": "python3"
  },
  "language_info": {
   "codemirror_mode": {
    "name": "ipython",
    "version": 3
   },
   "file_extension": ".py",
   "mimetype": "text/x-python",
   "name": "python",
   "nbconvert_exporter": "python",
   "pygments_lexer": "ipython3",
   "version": "3.8.10"
  },
  "orig_nbformat": 4,
  "vscode": {
   "interpreter": {
    "hash": "e7370f93d1d0cde622a1f8e1c04877d8463912d04d973331ad4851f04de6915a"
   }
  }
 },
 "nbformat": 4,
 "nbformat_minor": 2
}
