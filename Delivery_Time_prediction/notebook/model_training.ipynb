{
 "cells": [
  {
   "cell_type": "markdown",
   "metadata": {},
   "source": [
    "# Model Training "
   ]
  },
  {
   "cell_type": "markdown",
   "metadata": {},
   "source": [
    "## Feature Enginneering"
   ]
  },
  {
   "cell_type": "code",
   "execution_count": 1,
   "metadata": {},
   "outputs": [],
   "source": [
    "# Importing all required library\n",
    "import pandas as pd\n",
    "import numpy as np\n",
    "import seaborn as sns\n",
    "from math import radians, cos, sin, asin, acos, sqrt, pi\n",
    "from geopy import distance\n",
    "from geopy.geocoders import Nominatim\n",
    "import osmnx as ox\n",
    "import networkx as nx\n",
    "from statistics import  mode\n",
    "import matplotlib.pyplot as plt\n",
    "from sklearn.impute import SimpleImputer ## HAndling Missing Values\n",
    "from sklearn.preprocessing import StandardScaler # HAndling Feature Scaling\n",
    "from sklearn.preprocessing import OrdinalEncoder # Ordinal Encoding\n",
    "from sklearn.preprocessing import OneHotEncoder # One Hot Encoding\n",
    "## pipelines\n",
    "from sklearn.pipeline import Pipeline,FunctionTransformer\n",
    "from sklearn.compose import ColumnTransformer"
   ]
  },
  {
   "cell_type": "code",
   "execution_count": 2,
   "metadata": {},
   "outputs": [],
   "source": [
    "df=pd.read_csv('/config/workspace/Delivery_Time_prediction/notebook/data/finalTrain.csv')"
   ]
  },
  {
   "cell_type": "code",
   "execution_count": 3,
   "metadata": {},
   "outputs": [],
   "source": [
    "df_clened=pd.read_csv('/config/workspace/Delivery_Time_prediction/notebook/data/Final_Raw.csv')"
   ]
  },
  {
   "cell_type": "code",
   "execution_count": 4,
   "metadata": {},
   "outputs": [],
   "source": [
    "# Splitting independant and dependant features \n",
    "X=df.drop('Time_taken (min)',axis=1)\n",
    "y=df['Time_taken (min)']"
   ]
  },
  {
   "cell_type": "code",
   "execution_count": 5,
   "metadata": {},
   "outputs": [],
   "source": [
    "#Categories for ordinal encoding\n",
    "Weather_conditions_ODE=['Sunny','Cloudy','Windy','Fog', 'Stormy', 'Sandstorms' ]\n",
    "Road_traffic_density_ODE=['Low', 'Medium', 'High', 'Jam']\n",
    "Type_of_vehicle_ODE=['bicycle', 'electric_scooter', 'scooter', 'motorcycle']\n",
    "Festival_ODE=['No','Yes']\n",
    "\n",
    "#Categories for One Hot encoding\n",
    "OHE_Cat_City=['Metropolitian', 'Urban', 'Semi-Urban']\n",
    "OHE_Cat_type_orders=['Snack', 'Meal', 'Drinks', 'Buffet']\n",
    "\n",
    "#Column Transformation\n",
    "num_CT=['Delivery_person_Age', 'Delivery_person_Ratings','Vehicle_condition','pickup_time','Distance']\n",
    "ordinal_CT=['Weather_conditions', 'Road_traffic_density','Type_of_vehicle', 'Festival']\n",
    "OHE_CT=['City','Type_of_order']\n",
    "\n",
    "\n",
    "drop_list_pipe=['Restaurant_latitude',\n",
    "                'Restaurant_longitude', \n",
    "                'Delivery_location_latitude',\n",
    "                'Delivery_location_longitude',\n",
    "                'Time_Orderd', \n",
    "                'Time_Order_picked', \n",
    "                'Order_Date',\n",
    "                'ID',\n",
    "                'Delivery_person_ID'\n",
    "\n",
    "               ]\n"
   ]
  },
  {
   "cell_type": "code",
   "execution_count": 6,
   "metadata": {},
   "outputs": [],
   "source": [
    "# Distance calculator\n",
    "\n",
    "def calculate_spherical_distance(lat1, lon1, lat2, lon2, r=6371):\n",
    "    \n",
    "    # Convert degrees to radians\n",
    "    coordinates = abs(lat1), abs(lon1), abs(lat2), abs(lon2)\n",
    "    # radians(c) is same as c*pi/180\n",
    "    phi1, lambda1, phi2, lambda2 = [\n",
    "        radians(c) for c in coordinates\n",
    "    ]  \n",
    "    \n",
    "    # Apply the haversine formula\n",
    "    a = (np.square(sin((phi2-phi1)/2)) + cos(phi1) * cos(phi2) * \n",
    "         np.square(sin((lambda2-lambda1)/2)))\n",
    "    d = 2*r*asin(np.sqrt(a))\n",
    "    return d\n",
    "\n",
    "\n",
    "def distance_con_pipe(df):\n",
    "    \n",
    "        df['Distance']=[\n",
    "            round(calculate_spherical_distance(*row), 2) \n",
    "            for row in df[['Restaurant_latitude', 'Restaurant_longitude', \n",
    "                        'Delivery_location_latitude', \n",
    "                        'Delivery_location_longitude']].values\n",
    "                    ]\n",
    "        return df\n",
    "\n"
   ]
  },
  {
   "cell_type": "code",
   "execution_count": 7,
   "metadata": {},
   "outputs": [
    {
     "data": {
      "text/plain": [
       "Index(['Delivery_person_Age', 'Delivery_person_Ratings', 'Restaurant_latitude',\n",
       "       'Restaurant_longitude', 'Delivery_location_latitude',\n",
       "       'Delivery_location_longitude', 'Vehicle_condition',\n",
       "       'multiple_deliveries', 'Time_taken (min)'],\n",
       "      dtype='object')"
      ]
     },
     "execution_count": 7,
     "metadata": {},
     "output_type": "execute_result"
    }
   ],
   "source": [
    "df.select_dtypes(exclude=\"O\").columns"
   ]
  },
  {
   "cell_type": "code",
   "execution_count": 8,
   "metadata": {},
   "outputs": [],
   "source": [
    "#time_conversion pipeline\n",
    "\n",
    "\n",
    "def get_pickup_time(df):\n",
    "    def time_to_minutes(x):\n",
    "        if ((isinstance(x,str))and(\":\" in x)):\n",
    "            return float(x.split(\":\")[0]) * 60 + (float(x.split(\":\")[1]))\n",
    "        else:\n",
    "            return np.nan\n",
    "\n",
    "\n",
    "    df['Time_Order_picked']=df['Time_Order_picked'].apply(time_to_minutes)\n",
    "    df['Time_Orderd']=df['Time_Orderd'].apply(time_to_minutes)\n",
    "    df['pickup_time']=df['Time_Order_picked']-df['Time_Orderd']\n",
    "    return df\n",
    "\n",
    "\n"
   ]
  },
  {
   "cell_type": "code",
   "execution_count": 9,
   "metadata": {},
   "outputs": [],
   "source": [
    "# #Extring month column \n",
    "# def month_spliter(df):\n",
    "#     df['Order_Month']=df['Order_Date'].apply(lambda x: int(x.split(\"-\")[1]))\n",
    "#     return df\n",
    "# # Pipeline for date column\n",
    "# date_pipeline = Pipeline([('extract_month', FunctionTransformer(month_spliter))])"
   ]
  },
  {
   "cell_type": "code",
   "execution_count": 10,
   "metadata": {},
   "outputs": [],
   "source": [
    "# Column dropper\n",
    "def dropper(df):\n",
    "    df.drop(drop_list_pipe,inplace=True, axis=1)\n",
    "    return df"
   ]
  },
  {
   "cell_type": "code",
   "execution_count": 11,
   "metadata": {},
   "outputs": [],
   "source": [
    "#Distance Transformation pipeline\n",
    "distance_pipeline = Pipeline([\n",
    "    ('Distance_converter',FunctionTransformer(distance_con_pipe))\n",
    "    ])\n",
    "\n",
    "# # Pipeline for date column\n",
    "# date_pipeline = Pipeline([\n",
    "#     ('extract_month', FunctionTransformer(month_spliter))\n",
    "#                         ])\n",
    "\n",
    "# Pipeline for time columns\n",
    "time_pipeline = Pipeline([\n",
    "    ('time_conversion', FunctionTransformer(get_pickup_time))\n",
    "                        ])\n",
    "\n",
    "#Pipeline for frequent values handling \n",
    "frequncy_of_delivery=Pipeline(\n",
    "    steps = [\n",
    "    ('imputer',SimpleImputer(strategy='most_frequent'))\n",
    "    \n",
    "            ])\n",
    "\n",
    "# Numerical Pipeline\n",
    "num_pipeline=Pipeline(\n",
    "    steps=[\n",
    "   \n",
    "    ('imputer',SimpleImputer(strategy='mean')),\n",
    "    ('scaler',StandardScaler(with_mean=False))\n",
    "        \n",
    "        ] \n",
    "                    )\n",
    "# Categorical Pipeline\n",
    "cat_pipeline_ODE =Pipeline(\n",
    "    steps=[\n",
    "    \n",
    "    ('imputer',SimpleImputer(strategy='most_frequent')),\n",
    "    ('ordinalencoder',OrdinalEncoder(categories=[Weather_conditions_ODE,Road_traffic_density_ODE,Type_of_vehicle_ODE,Festival_ODE])),\n",
    "    ('scaler',StandardScaler(with_mean=False))\n",
    "    \n",
    "    ]\n",
    "                    )\n",
    "cat_pipeline_OHE=Pipeline(\n",
    "    steps=[\n",
    "        ('imputer',SimpleImputer(strategy='most_frequent')),\n",
    "        ('onehotencoder',OneHotEncoder(categories=[OHE_Cat_City,OHE_Cat_type_orders])),\n",
    "        ('scaler',StandardScaler(with_mean=False))\n",
    "    ]\n",
    ")\n",
    "\n",
    "\n",
    "preprocessor=ColumnTransformer([\n",
    "\n",
    "('num_pipeline',num_pipeline,num_CT),\n",
    "('cat_pipeline_ODE',cat_pipeline_ODE,ordinal_CT),\n",
    "('cat_pipeline_OHE',cat_pipeline_OHE,OHE_CT),\n",
    "('Frequency_match',frequncy_of_delivery,[ 'multiple_deliveries']),\n",
    "# (\"scaler\",scale)\n",
    "])\n",
    "\n",
    "drop_non_essential=Pipeline([\n",
    "    ('drop_cols', FunctionTransformer(dropper)),\n",
    "   \n",
    "])\n",
    "scale=Pipeline([ ('scaler',StandardScaler())])\n",
    "# # Combine pipelines\n",
    "full_pipeline = Pipeline([\n",
    "    ('distance_preprocessing', distance_pipeline),\n",
    "    ('time_pipeline', time_pipeline),\n",
    "    # ('date_pipeline', date_pipeline),    \n",
    "    ('Drop_non_essential', drop_non_essential)   \n",
    "\n",
    "])\n"
   ]
  },
  {
   "cell_type": "code",
   "execution_count": 12,
   "metadata": {},
   "outputs": [
    {
     "data": {
      "text/html": [
       "<style>#sk-container-id-1 {color: black;background-color: white;}#sk-container-id-1 pre{padding: 0;}#sk-container-id-1 div.sk-toggleable {background-color: white;}#sk-container-id-1 label.sk-toggleable__label {cursor: pointer;display: block;width: 100%;margin-bottom: 0;padding: 0.3em;box-sizing: border-box;text-align: center;}#sk-container-id-1 label.sk-toggleable__label-arrow:before {content: \"▸\";float: left;margin-right: 0.25em;color: #696969;}#sk-container-id-1 label.sk-toggleable__label-arrow:hover:before {color: black;}#sk-container-id-1 div.sk-estimator:hover label.sk-toggleable__label-arrow:before {color: black;}#sk-container-id-1 div.sk-toggleable__content {max-height: 0;max-width: 0;overflow: hidden;text-align: left;background-color: #f0f8ff;}#sk-container-id-1 div.sk-toggleable__content pre {margin: 0.2em;color: black;border-radius: 0.25em;background-color: #f0f8ff;}#sk-container-id-1 input.sk-toggleable__control:checked~div.sk-toggleable__content {max-height: 200px;max-width: 100%;overflow: auto;}#sk-container-id-1 input.sk-toggleable__control:checked~label.sk-toggleable__label-arrow:before {content: \"▾\";}#sk-container-id-1 div.sk-estimator input.sk-toggleable__control:checked~label.sk-toggleable__label {background-color: #d4ebff;}#sk-container-id-1 div.sk-label input.sk-toggleable__control:checked~label.sk-toggleable__label {background-color: #d4ebff;}#sk-container-id-1 input.sk-hidden--visually {border: 0;clip: rect(1px 1px 1px 1px);clip: rect(1px, 1px, 1px, 1px);height: 1px;margin: -1px;overflow: hidden;padding: 0;position: absolute;width: 1px;}#sk-container-id-1 div.sk-estimator {font-family: monospace;background-color: #f0f8ff;border: 1px dotted black;border-radius: 0.25em;box-sizing: border-box;margin-bottom: 0.5em;}#sk-container-id-1 div.sk-estimator:hover {background-color: #d4ebff;}#sk-container-id-1 div.sk-parallel-item::after {content: \"\";width: 100%;border-bottom: 1px solid gray;flex-grow: 1;}#sk-container-id-1 div.sk-label:hover label.sk-toggleable__label {background-color: #d4ebff;}#sk-container-id-1 div.sk-serial::before {content: \"\";position: absolute;border-left: 1px solid gray;box-sizing: border-box;top: 0;bottom: 0;left: 50%;z-index: 0;}#sk-container-id-1 div.sk-serial {display: flex;flex-direction: column;align-items: center;background-color: white;padding-right: 0.2em;padding-left: 0.2em;position: relative;}#sk-container-id-1 div.sk-item {position: relative;z-index: 1;}#sk-container-id-1 div.sk-parallel {display: flex;align-items: stretch;justify-content: center;background-color: white;position: relative;}#sk-container-id-1 div.sk-item::before, #sk-container-id-1 div.sk-parallel-item::before {content: \"\";position: absolute;border-left: 1px solid gray;box-sizing: border-box;top: 0;bottom: 0;left: 50%;z-index: -1;}#sk-container-id-1 div.sk-parallel-item {display: flex;flex-direction: column;z-index: 1;position: relative;background-color: white;}#sk-container-id-1 div.sk-parallel-item:first-child::after {align-self: flex-end;width: 50%;}#sk-container-id-1 div.sk-parallel-item:last-child::after {align-self: flex-start;width: 50%;}#sk-container-id-1 div.sk-parallel-item:only-child::after {width: 0;}#sk-container-id-1 div.sk-dashed-wrapped {border: 1px dashed gray;margin: 0 0.4em 0.5em 0.4em;box-sizing: border-box;padding-bottom: 0.4em;background-color: white;}#sk-container-id-1 div.sk-label label {font-family: monospace;font-weight: bold;display: inline-block;line-height: 1.2em;}#sk-container-id-1 div.sk-label-container {text-align: center;}#sk-container-id-1 div.sk-container {/* jupyter's `normalize.less` sets `[hidden] { display: none; }` but bootstrap.min.css set `[hidden] { display: none !important; }` so we also need the `!important` here to be able to override the default hidden behavior on the sphinx rendered scikit-learn.org. See: https://github.com/scikit-learn/scikit-learn/issues/21755 */display: inline-block !important;position: relative;}#sk-container-id-1 div.sk-text-repr-fallback {display: none;}</style><div id=\"sk-container-id-1\" class=\"sk-top-container\"><div class=\"sk-text-repr-fallback\"><pre>Pipeline(steps=[(&#x27;distance_preprocessing&#x27;,\n",
       "                 Pipeline(steps=[(&#x27;Distance_converter&#x27;,\n",
       "                                  FunctionTransformer(func=&lt;function distance_con_pipe at 0x7fc0fcc98b80&gt;))])),\n",
       "                (&#x27;time_pipeline&#x27;,\n",
       "                 Pipeline(steps=[(&#x27;time_conversion&#x27;,\n",
       "                                  FunctionTransformer(func=&lt;function get_pickup_time at 0x7fc0fcc98c10&gt;))])),\n",
       "                (&#x27;Drop_non_essential&#x27;,\n",
       "                 Pipeline(steps=[(&#x27;drop_cols&#x27;,\n",
       "                                  FunctionTransformer(func=&lt;function dropper at 0x7fc0fcc98940&gt;))]))])</pre><b>In a Jupyter environment, please rerun this cell to show the HTML representation or trust the notebook. <br />On GitHub, the HTML representation is unable to render, please try loading this page with nbviewer.org.</b></div><div class=\"sk-container\" hidden><div class=\"sk-item sk-dashed-wrapped\"><div class=\"sk-label-container\"><div class=\"sk-label sk-toggleable\"><input class=\"sk-toggleable__control sk-hidden--visually\" id=\"sk-estimator-id-1\" type=\"checkbox\" ><label for=\"sk-estimator-id-1\" class=\"sk-toggleable__label sk-toggleable__label-arrow\">Pipeline</label><div class=\"sk-toggleable__content\"><pre>Pipeline(steps=[(&#x27;distance_preprocessing&#x27;,\n",
       "                 Pipeline(steps=[(&#x27;Distance_converter&#x27;,\n",
       "                                  FunctionTransformer(func=&lt;function distance_con_pipe at 0x7fc0fcc98b80&gt;))])),\n",
       "                (&#x27;time_pipeline&#x27;,\n",
       "                 Pipeline(steps=[(&#x27;time_conversion&#x27;,\n",
       "                                  FunctionTransformer(func=&lt;function get_pickup_time at 0x7fc0fcc98c10&gt;))])),\n",
       "                (&#x27;Drop_non_essential&#x27;,\n",
       "                 Pipeline(steps=[(&#x27;drop_cols&#x27;,\n",
       "                                  FunctionTransformer(func=&lt;function dropper at 0x7fc0fcc98940&gt;))]))])</pre></div></div></div><div class=\"sk-serial\"><div class=\"sk-item\"><div class=\"sk-label-container\"><div class=\"sk-label sk-toggleable\"><input class=\"sk-toggleable__control sk-hidden--visually\" id=\"sk-estimator-id-2\" type=\"checkbox\" ><label for=\"sk-estimator-id-2\" class=\"sk-toggleable__label sk-toggleable__label-arrow\">distance_preprocessing: Pipeline</label><div class=\"sk-toggleable__content\"><pre>Pipeline(steps=[(&#x27;Distance_converter&#x27;,\n",
       "                 FunctionTransformer(func=&lt;function distance_con_pipe at 0x7fc0fcc98b80&gt;))])</pre></div></div></div><div class=\"sk-serial\"><div class=\"sk-item\"><div class=\"sk-estimator sk-toggleable\"><input class=\"sk-toggleable__control sk-hidden--visually\" id=\"sk-estimator-id-3\" type=\"checkbox\" ><label for=\"sk-estimator-id-3\" class=\"sk-toggleable__label sk-toggleable__label-arrow\">FunctionTransformer</label><div class=\"sk-toggleable__content\"><pre>FunctionTransformer(func=&lt;function distance_con_pipe at 0x7fc0fcc98b80&gt;)</pre></div></div></div></div></div><div class=\"sk-item\"><div class=\"sk-label-container\"><div class=\"sk-label sk-toggleable\"><input class=\"sk-toggleable__control sk-hidden--visually\" id=\"sk-estimator-id-4\" type=\"checkbox\" ><label for=\"sk-estimator-id-4\" class=\"sk-toggleable__label sk-toggleable__label-arrow\">time_pipeline: Pipeline</label><div class=\"sk-toggleable__content\"><pre>Pipeline(steps=[(&#x27;time_conversion&#x27;,\n",
       "                 FunctionTransformer(func=&lt;function get_pickup_time at 0x7fc0fcc98c10&gt;))])</pre></div></div></div><div class=\"sk-serial\"><div class=\"sk-item\"><div class=\"sk-estimator sk-toggleable\"><input class=\"sk-toggleable__control sk-hidden--visually\" id=\"sk-estimator-id-5\" type=\"checkbox\" ><label for=\"sk-estimator-id-5\" class=\"sk-toggleable__label sk-toggleable__label-arrow\">FunctionTransformer</label><div class=\"sk-toggleable__content\"><pre>FunctionTransformer(func=&lt;function get_pickup_time at 0x7fc0fcc98c10&gt;)</pre></div></div></div></div></div><div class=\"sk-item\"><div class=\"sk-label-container\"><div class=\"sk-label sk-toggleable\"><input class=\"sk-toggleable__control sk-hidden--visually\" id=\"sk-estimator-id-6\" type=\"checkbox\" ><label for=\"sk-estimator-id-6\" class=\"sk-toggleable__label sk-toggleable__label-arrow\">Drop_non_essential: Pipeline</label><div class=\"sk-toggleable__content\"><pre>Pipeline(steps=[(&#x27;drop_cols&#x27;,\n",
       "                 FunctionTransformer(func=&lt;function dropper at 0x7fc0fcc98940&gt;))])</pre></div></div></div><div class=\"sk-serial\"><div class=\"sk-item\"><div class=\"sk-estimator sk-toggleable\"><input class=\"sk-toggleable__control sk-hidden--visually\" id=\"sk-estimator-id-7\" type=\"checkbox\" ><label for=\"sk-estimator-id-7\" class=\"sk-toggleable__label sk-toggleable__label-arrow\">FunctionTransformer</label><div class=\"sk-toggleable__content\"><pre>FunctionTransformer(func=&lt;function dropper at 0x7fc0fcc98940&gt;)</pre></div></div></div></div></div></div></div></div></div>"
      ],
      "text/plain": [
       "Pipeline(steps=[('distance_preprocessing',\n",
       "                 Pipeline(steps=[('Distance_converter',\n",
       "                                  FunctionTransformer(func=<function distance_con_pipe at 0x7fc0fcc98b80>))])),\n",
       "                ('time_pipeline',\n",
       "                 Pipeline(steps=[('time_conversion',\n",
       "                                  FunctionTransformer(func=<function get_pickup_time at 0x7fc0fcc98c10>))])),\n",
       "                ('Drop_non_essential',\n",
       "                 Pipeline(steps=[('drop_cols',\n",
       "                                  FunctionTransformer(func=<function dropper at 0x7fc0fcc98940>))]))])"
      ]
     },
     "execution_count": 12,
     "metadata": {},
     "output_type": "execute_result"
    }
   ],
   "source": [
    "full_pipeline"
   ]
  },
  {
   "cell_type": "code",
   "execution_count": 13,
   "metadata": {},
   "outputs": [
    {
     "data": {
      "text/html": [
       "<style>#sk-container-id-2 {color: black;background-color: white;}#sk-container-id-2 pre{padding: 0;}#sk-container-id-2 div.sk-toggleable {background-color: white;}#sk-container-id-2 label.sk-toggleable__label {cursor: pointer;display: block;width: 100%;margin-bottom: 0;padding: 0.3em;box-sizing: border-box;text-align: center;}#sk-container-id-2 label.sk-toggleable__label-arrow:before {content: \"▸\";float: left;margin-right: 0.25em;color: #696969;}#sk-container-id-2 label.sk-toggleable__label-arrow:hover:before {color: black;}#sk-container-id-2 div.sk-estimator:hover label.sk-toggleable__label-arrow:before {color: black;}#sk-container-id-2 div.sk-toggleable__content {max-height: 0;max-width: 0;overflow: hidden;text-align: left;background-color: #f0f8ff;}#sk-container-id-2 div.sk-toggleable__content pre {margin: 0.2em;color: black;border-radius: 0.25em;background-color: #f0f8ff;}#sk-container-id-2 input.sk-toggleable__control:checked~div.sk-toggleable__content {max-height: 200px;max-width: 100%;overflow: auto;}#sk-container-id-2 input.sk-toggleable__control:checked~label.sk-toggleable__label-arrow:before {content: \"▾\";}#sk-container-id-2 div.sk-estimator input.sk-toggleable__control:checked~label.sk-toggleable__label {background-color: #d4ebff;}#sk-container-id-2 div.sk-label input.sk-toggleable__control:checked~label.sk-toggleable__label {background-color: #d4ebff;}#sk-container-id-2 input.sk-hidden--visually {border: 0;clip: rect(1px 1px 1px 1px);clip: rect(1px, 1px, 1px, 1px);height: 1px;margin: -1px;overflow: hidden;padding: 0;position: absolute;width: 1px;}#sk-container-id-2 div.sk-estimator {font-family: monospace;background-color: #f0f8ff;border: 1px dotted black;border-radius: 0.25em;box-sizing: border-box;margin-bottom: 0.5em;}#sk-container-id-2 div.sk-estimator:hover {background-color: #d4ebff;}#sk-container-id-2 div.sk-parallel-item::after {content: \"\";width: 100%;border-bottom: 1px solid gray;flex-grow: 1;}#sk-container-id-2 div.sk-label:hover label.sk-toggleable__label {background-color: #d4ebff;}#sk-container-id-2 div.sk-serial::before {content: \"\";position: absolute;border-left: 1px solid gray;box-sizing: border-box;top: 0;bottom: 0;left: 50%;z-index: 0;}#sk-container-id-2 div.sk-serial {display: flex;flex-direction: column;align-items: center;background-color: white;padding-right: 0.2em;padding-left: 0.2em;position: relative;}#sk-container-id-2 div.sk-item {position: relative;z-index: 1;}#sk-container-id-2 div.sk-parallel {display: flex;align-items: stretch;justify-content: center;background-color: white;position: relative;}#sk-container-id-2 div.sk-item::before, #sk-container-id-2 div.sk-parallel-item::before {content: \"\";position: absolute;border-left: 1px solid gray;box-sizing: border-box;top: 0;bottom: 0;left: 50%;z-index: -1;}#sk-container-id-2 div.sk-parallel-item {display: flex;flex-direction: column;z-index: 1;position: relative;background-color: white;}#sk-container-id-2 div.sk-parallel-item:first-child::after {align-self: flex-end;width: 50%;}#sk-container-id-2 div.sk-parallel-item:last-child::after {align-self: flex-start;width: 50%;}#sk-container-id-2 div.sk-parallel-item:only-child::after {width: 0;}#sk-container-id-2 div.sk-dashed-wrapped {border: 1px dashed gray;margin: 0 0.4em 0.5em 0.4em;box-sizing: border-box;padding-bottom: 0.4em;background-color: white;}#sk-container-id-2 div.sk-label label {font-family: monospace;font-weight: bold;display: inline-block;line-height: 1.2em;}#sk-container-id-2 div.sk-label-container {text-align: center;}#sk-container-id-2 div.sk-container {/* jupyter's `normalize.less` sets `[hidden] { display: none; }` but bootstrap.min.css set `[hidden] { display: none !important; }` so we also need the `!important` here to be able to override the default hidden behavior on the sphinx rendered scikit-learn.org. See: https://github.com/scikit-learn/scikit-learn/issues/21755 */display: inline-block !important;position: relative;}#sk-container-id-2 div.sk-text-repr-fallback {display: none;}</style><div id=\"sk-container-id-2\" class=\"sk-top-container\"><div class=\"sk-text-repr-fallback\"><pre>ColumnTransformer(transformers=[(&#x27;num_pipeline&#x27;,\n",
       "                                 Pipeline(steps=[(&#x27;imputer&#x27;, SimpleImputer()),\n",
       "                                                 (&#x27;scaler&#x27;,\n",
       "                                                  StandardScaler(with_mean=False))]),\n",
       "                                 [&#x27;Delivery_person_Age&#x27;,\n",
       "                                  &#x27;Delivery_person_Ratings&#x27;,\n",
       "                                  &#x27;Vehicle_condition&#x27;, &#x27;pickup_time&#x27;,\n",
       "                                  &#x27;Distance&#x27;]),\n",
       "                                (&#x27;cat_pipeline_ODE&#x27;,\n",
       "                                 Pipeline(steps=[(&#x27;imputer&#x27;,\n",
       "                                                  SimpleImputer(strategy=&#x27;most_frequent&#x27;)),\n",
       "                                                 (&#x27;ordinalencoder&#x27;,\n",
       "                                                  OrdinalEnco...\n",
       "                                 Pipeline(steps=[(&#x27;imputer&#x27;,\n",
       "                                                  SimpleImputer(strategy=&#x27;most_frequent&#x27;)),\n",
       "                                                 (&#x27;onehotencoder&#x27;,\n",
       "                                                  OneHotEncoder(categories=[[&#x27;Metropolitian&#x27;,\n",
       "                                                                             &#x27;Urban&#x27;,\n",
       "                                                                             &#x27;Semi-Urban&#x27;],\n",
       "                                                                            [&#x27;Snack&#x27;,\n",
       "                                                                             &#x27;Meal&#x27;,\n",
       "                                                                             &#x27;Drinks&#x27;,\n",
       "                                                                             &#x27;Buffet&#x27;]])),\n",
       "                                                 (&#x27;scaler&#x27;,\n",
       "                                                  StandardScaler(with_mean=False))]),\n",
       "                                 [&#x27;City&#x27;, &#x27;Type_of_order&#x27;]),\n",
       "                                (&#x27;Frequency_match&#x27;,\n",
       "                                 Pipeline(steps=[(&#x27;imputer&#x27;,\n",
       "                                                  SimpleImputer(strategy=&#x27;most_frequent&#x27;))]),\n",
       "                                 [&#x27;multiple_deliveries&#x27;])])</pre><b>In a Jupyter environment, please rerun this cell to show the HTML representation or trust the notebook. <br />On GitHub, the HTML representation is unable to render, please try loading this page with nbviewer.org.</b></div><div class=\"sk-container\" hidden><div class=\"sk-item sk-dashed-wrapped\"><div class=\"sk-label-container\"><div class=\"sk-label sk-toggleable\"><input class=\"sk-toggleable__control sk-hidden--visually\" id=\"sk-estimator-id-8\" type=\"checkbox\" ><label for=\"sk-estimator-id-8\" class=\"sk-toggleable__label sk-toggleable__label-arrow\">ColumnTransformer</label><div class=\"sk-toggleable__content\"><pre>ColumnTransformer(transformers=[(&#x27;num_pipeline&#x27;,\n",
       "                                 Pipeline(steps=[(&#x27;imputer&#x27;, SimpleImputer()),\n",
       "                                                 (&#x27;scaler&#x27;,\n",
       "                                                  StandardScaler(with_mean=False))]),\n",
       "                                 [&#x27;Delivery_person_Age&#x27;,\n",
       "                                  &#x27;Delivery_person_Ratings&#x27;,\n",
       "                                  &#x27;Vehicle_condition&#x27;, &#x27;pickup_time&#x27;,\n",
       "                                  &#x27;Distance&#x27;]),\n",
       "                                (&#x27;cat_pipeline_ODE&#x27;,\n",
       "                                 Pipeline(steps=[(&#x27;imputer&#x27;,\n",
       "                                                  SimpleImputer(strategy=&#x27;most_frequent&#x27;)),\n",
       "                                                 (&#x27;ordinalencoder&#x27;,\n",
       "                                                  OrdinalEnco...\n",
       "                                 Pipeline(steps=[(&#x27;imputer&#x27;,\n",
       "                                                  SimpleImputer(strategy=&#x27;most_frequent&#x27;)),\n",
       "                                                 (&#x27;onehotencoder&#x27;,\n",
       "                                                  OneHotEncoder(categories=[[&#x27;Metropolitian&#x27;,\n",
       "                                                                             &#x27;Urban&#x27;,\n",
       "                                                                             &#x27;Semi-Urban&#x27;],\n",
       "                                                                            [&#x27;Snack&#x27;,\n",
       "                                                                             &#x27;Meal&#x27;,\n",
       "                                                                             &#x27;Drinks&#x27;,\n",
       "                                                                             &#x27;Buffet&#x27;]])),\n",
       "                                                 (&#x27;scaler&#x27;,\n",
       "                                                  StandardScaler(with_mean=False))]),\n",
       "                                 [&#x27;City&#x27;, &#x27;Type_of_order&#x27;]),\n",
       "                                (&#x27;Frequency_match&#x27;,\n",
       "                                 Pipeline(steps=[(&#x27;imputer&#x27;,\n",
       "                                                  SimpleImputer(strategy=&#x27;most_frequent&#x27;))]),\n",
       "                                 [&#x27;multiple_deliveries&#x27;])])</pre></div></div></div><div class=\"sk-parallel\"><div class=\"sk-parallel-item\"><div class=\"sk-item\"><div class=\"sk-label-container\"><div class=\"sk-label sk-toggleable\"><input class=\"sk-toggleable__control sk-hidden--visually\" id=\"sk-estimator-id-9\" type=\"checkbox\" ><label for=\"sk-estimator-id-9\" class=\"sk-toggleable__label sk-toggleable__label-arrow\">num_pipeline</label><div class=\"sk-toggleable__content\"><pre>[&#x27;Delivery_person_Age&#x27;, &#x27;Delivery_person_Ratings&#x27;, &#x27;Vehicle_condition&#x27;, &#x27;pickup_time&#x27;, &#x27;Distance&#x27;]</pre></div></div></div><div class=\"sk-serial\"><div class=\"sk-item\"><div class=\"sk-serial\"><div class=\"sk-item\"><div class=\"sk-estimator sk-toggleable\"><input class=\"sk-toggleable__control sk-hidden--visually\" id=\"sk-estimator-id-10\" type=\"checkbox\" ><label for=\"sk-estimator-id-10\" class=\"sk-toggleable__label sk-toggleable__label-arrow\">SimpleImputer</label><div class=\"sk-toggleable__content\"><pre>SimpleImputer()</pre></div></div></div><div class=\"sk-item\"><div class=\"sk-estimator sk-toggleable\"><input class=\"sk-toggleable__control sk-hidden--visually\" id=\"sk-estimator-id-11\" type=\"checkbox\" ><label for=\"sk-estimator-id-11\" class=\"sk-toggleable__label sk-toggleable__label-arrow\">StandardScaler</label><div class=\"sk-toggleable__content\"><pre>StandardScaler(with_mean=False)</pre></div></div></div></div></div></div></div></div><div class=\"sk-parallel-item\"><div class=\"sk-item\"><div class=\"sk-label-container\"><div class=\"sk-label sk-toggleable\"><input class=\"sk-toggleable__control sk-hidden--visually\" id=\"sk-estimator-id-12\" type=\"checkbox\" ><label for=\"sk-estimator-id-12\" class=\"sk-toggleable__label sk-toggleable__label-arrow\">cat_pipeline_ODE</label><div class=\"sk-toggleable__content\"><pre>[&#x27;Weather_conditions&#x27;, &#x27;Road_traffic_density&#x27;, &#x27;Type_of_vehicle&#x27;, &#x27;Festival&#x27;]</pre></div></div></div><div class=\"sk-serial\"><div class=\"sk-item\"><div class=\"sk-serial\"><div class=\"sk-item\"><div class=\"sk-estimator sk-toggleable\"><input class=\"sk-toggleable__control sk-hidden--visually\" id=\"sk-estimator-id-13\" type=\"checkbox\" ><label for=\"sk-estimator-id-13\" class=\"sk-toggleable__label sk-toggleable__label-arrow\">SimpleImputer</label><div class=\"sk-toggleable__content\"><pre>SimpleImputer(strategy=&#x27;most_frequent&#x27;)</pre></div></div></div><div class=\"sk-item\"><div class=\"sk-estimator sk-toggleable\"><input class=\"sk-toggleable__control sk-hidden--visually\" id=\"sk-estimator-id-14\" type=\"checkbox\" ><label for=\"sk-estimator-id-14\" class=\"sk-toggleable__label sk-toggleable__label-arrow\">OrdinalEncoder</label><div class=\"sk-toggleable__content\"><pre>OrdinalEncoder(categories=[[&#x27;Sunny&#x27;, &#x27;Cloudy&#x27;, &#x27;Windy&#x27;, &#x27;Fog&#x27;, &#x27;Stormy&#x27;,\n",
       "                            &#x27;Sandstorms&#x27;],\n",
       "                           [&#x27;Low&#x27;, &#x27;Medium&#x27;, &#x27;High&#x27;, &#x27;Jam&#x27;],\n",
       "                           [&#x27;bicycle&#x27;, &#x27;electric_scooter&#x27;, &#x27;scooter&#x27;,\n",
       "                            &#x27;motorcycle&#x27;],\n",
       "                           [&#x27;No&#x27;, &#x27;Yes&#x27;]])</pre></div></div></div><div class=\"sk-item\"><div class=\"sk-estimator sk-toggleable\"><input class=\"sk-toggleable__control sk-hidden--visually\" id=\"sk-estimator-id-15\" type=\"checkbox\" ><label for=\"sk-estimator-id-15\" class=\"sk-toggleable__label sk-toggleable__label-arrow\">StandardScaler</label><div class=\"sk-toggleable__content\"><pre>StandardScaler(with_mean=False)</pre></div></div></div></div></div></div></div></div><div class=\"sk-parallel-item\"><div class=\"sk-item\"><div class=\"sk-label-container\"><div class=\"sk-label sk-toggleable\"><input class=\"sk-toggleable__control sk-hidden--visually\" id=\"sk-estimator-id-16\" type=\"checkbox\" ><label for=\"sk-estimator-id-16\" class=\"sk-toggleable__label sk-toggleable__label-arrow\">cat_pipeline_OHE</label><div class=\"sk-toggleable__content\"><pre>[&#x27;City&#x27;, &#x27;Type_of_order&#x27;]</pre></div></div></div><div class=\"sk-serial\"><div class=\"sk-item\"><div class=\"sk-serial\"><div class=\"sk-item\"><div class=\"sk-estimator sk-toggleable\"><input class=\"sk-toggleable__control sk-hidden--visually\" id=\"sk-estimator-id-17\" type=\"checkbox\" ><label for=\"sk-estimator-id-17\" class=\"sk-toggleable__label sk-toggleable__label-arrow\">SimpleImputer</label><div class=\"sk-toggleable__content\"><pre>SimpleImputer(strategy=&#x27;most_frequent&#x27;)</pre></div></div></div><div class=\"sk-item\"><div class=\"sk-estimator sk-toggleable\"><input class=\"sk-toggleable__control sk-hidden--visually\" id=\"sk-estimator-id-18\" type=\"checkbox\" ><label for=\"sk-estimator-id-18\" class=\"sk-toggleable__label sk-toggleable__label-arrow\">OneHotEncoder</label><div class=\"sk-toggleable__content\"><pre>OneHotEncoder(categories=[[&#x27;Metropolitian&#x27;, &#x27;Urban&#x27;, &#x27;Semi-Urban&#x27;],\n",
       "                          [&#x27;Snack&#x27;, &#x27;Meal&#x27;, &#x27;Drinks&#x27;, &#x27;Buffet&#x27;]])</pre></div></div></div><div class=\"sk-item\"><div class=\"sk-estimator sk-toggleable\"><input class=\"sk-toggleable__control sk-hidden--visually\" id=\"sk-estimator-id-19\" type=\"checkbox\" ><label for=\"sk-estimator-id-19\" class=\"sk-toggleable__label sk-toggleable__label-arrow\">StandardScaler</label><div class=\"sk-toggleable__content\"><pre>StandardScaler(with_mean=False)</pre></div></div></div></div></div></div></div></div><div class=\"sk-parallel-item\"><div class=\"sk-item\"><div class=\"sk-label-container\"><div class=\"sk-label sk-toggleable\"><input class=\"sk-toggleable__control sk-hidden--visually\" id=\"sk-estimator-id-20\" type=\"checkbox\" ><label for=\"sk-estimator-id-20\" class=\"sk-toggleable__label sk-toggleable__label-arrow\">Frequency_match</label><div class=\"sk-toggleable__content\"><pre>[&#x27;multiple_deliveries&#x27;]</pre></div></div></div><div class=\"sk-serial\"><div class=\"sk-item\"><div class=\"sk-serial\"><div class=\"sk-item\"><div class=\"sk-estimator sk-toggleable\"><input class=\"sk-toggleable__control sk-hidden--visually\" id=\"sk-estimator-id-21\" type=\"checkbox\" ><label for=\"sk-estimator-id-21\" class=\"sk-toggleable__label sk-toggleable__label-arrow\">SimpleImputer</label><div class=\"sk-toggleable__content\"><pre>SimpleImputer(strategy=&#x27;most_frequent&#x27;)</pre></div></div></div></div></div></div></div></div></div></div></div></div>"
      ],
      "text/plain": [
       "ColumnTransformer(transformers=[('num_pipeline',\n",
       "                                 Pipeline(steps=[('imputer', SimpleImputer()),\n",
       "                                                 ('scaler',\n",
       "                                                  StandardScaler(with_mean=False))]),\n",
       "                                 ['Delivery_person_Age',\n",
       "                                  'Delivery_person_Ratings',\n",
       "                                  'Vehicle_condition', 'pickup_time',\n",
       "                                  'Distance']),\n",
       "                                ('cat_pipeline_ODE',\n",
       "                                 Pipeline(steps=[('imputer',\n",
       "                                                  SimpleImputer(strategy='most_frequent')),\n",
       "                                                 ('ordinalencoder',\n",
       "                                                  OrdinalEnco...\n",
       "                                 Pipeline(steps=[('imputer',\n",
       "                                                  SimpleImputer(strategy='most_frequent')),\n",
       "                                                 ('onehotencoder',\n",
       "                                                  OneHotEncoder(categories=[['Metropolitian',\n",
       "                                                                             'Urban',\n",
       "                                                                             'Semi-Urban'],\n",
       "                                                                            ['Snack',\n",
       "                                                                             'Meal',\n",
       "                                                                             'Drinks',\n",
       "                                                                             'Buffet']])),\n",
       "                                                 ('scaler',\n",
       "                                                  StandardScaler(with_mean=False))]),\n",
       "                                 ['City', 'Type_of_order']),\n",
       "                                ('Frequency_match',\n",
       "                                 Pipeline(steps=[('imputer',\n",
       "                                                  SimpleImputer(strategy='most_frequent'))]),\n",
       "                                 ['multiple_deliveries'])])"
      ]
     },
     "execution_count": 13,
     "metadata": {},
     "output_type": "execute_result"
    }
   ],
   "source": [
    "preprocessor"
   ]
  },
  {
   "cell_type": "code",
   "execution_count": 14,
   "metadata": {},
   "outputs": [],
   "source": [
    "## Train test split\n",
    "\n",
    "from sklearn.model_selection import train_test_split\n",
    "X = full_pipeline.fit_transform(X)\n",
    "X_train,X_test,y_train,y_test=train_test_split(X,y,test_size=0.30,random_state=30)\n",
    "\n"
   ]
  },
  {
   "cell_type": "code",
   "execution_count": 15,
   "metadata": {},
   "outputs": [],
   "source": [
    "#Feature Engineering\n",
    "X_train=pd.DataFrame(preprocessor.fit_transform(X_train),columns=preprocessor.get_feature_names_out())\n"
   ]
  },
  {
   "cell_type": "code",
   "execution_count": 16,
   "metadata": {},
   "outputs": [],
   "source": [
    "X_test=pd.DataFrame(preprocessor.transform(X_test),columns=preprocessor.get_feature_names_out())"
   ]
  },
  {
   "cell_type": "code",
   "execution_count": 17,
   "metadata": {},
   "outputs": [],
   "source": [
    "## Model Training\n",
    "\n",
    "from sklearn.linear_model import LinearRegression,Lasso,Ridge,ElasticNet\n",
    "from sklearn.metrics import r2_score,mean_absolute_error,mean_squared_error\n",
    "from sklearn.svm import SVR\n",
    "from xgboost import XGBRegressor\n",
    "from lightgbm import LGBMRegressor\n",
    "from sklearn.ensemble import RandomForestRegressor"
   ]
  },
  {
   "cell_type": "code",
   "execution_count": 18,
   "metadata": {},
   "outputs": [],
   "source": [
    "import numpy as np\n",
    "def evaluate_model(true, predicted):\n",
    "    mae = mean_absolute_error(true, predicted)\n",
    "    mse = mean_squared_error(true, predicted)\n",
    "    rmse = np.sqrt(mean_squared_error(true, predicted))\n",
    "    r2_square = r2_score(true, predicted)\n",
    "    return mae, rmse, r2_square"
   ]
  },
  {
   "cell_type": "code",
   "execution_count": 19,
   "metadata": {},
   "outputs": [
    {
     "name": "stdout",
     "output_type": "stream",
     "text": [
      "LinearRegression\n",
      "Model Training Performance\n",
      "RMSE: 6.45422159863973\n",
      "MAE: 5.112705593610536\n",
      "R2 score 51.83881504847756\n",
      "===================================\n",
      "\n",
      "\n",
      "Lasso\n",
      "Model Training Performance\n",
      "RMSE: 6.970692336703406\n",
      "MAE: 5.569105623625355\n",
      "R2 score 43.82265001441314\n",
      "===================================\n",
      "\n",
      "\n",
      "Ridge\n",
      "Model Training Performance\n",
      "RMSE: 6.454219774067393\n",
      "MAE: 5.112705661099724\n",
      "R2 score 51.83884227826881\n",
      "===================================\n",
      "\n",
      "\n",
      "Elasticnet\n",
      "Model Training Performance\n",
      "RMSE: 7.023802822797504\n",
      "MAE: 5.637814398144025\n",
      "R2 score 42.96334582017337\n",
      "===================================\n",
      "\n",
      "\n",
      "Xgboost\n",
      "Model Training Performance\n",
      "RMSE: 3.985148118347519\n",
      "MAE: 3.1801452294327635\n",
      "R2 score 81.6389144370662\n",
      "===================================\n",
      "\n",
      "\n",
      "SVR\n",
      "Model Training Performance\n",
      "RMSE: 6.278025296557284\n",
      "MAE: 4.940028439286502\n",
      "R2 score 54.43246439248179\n",
      "===================================\n",
      "\n",
      "\n",
      "RandomForestRegressor\n",
      "Model Training Performance\n",
      "RMSE: 4.064813356810226\n",
      "MAE: 3.208691550369782\n",
      "R2 score 80.8974811476175\n",
      "===================================\n",
      "\n",
      "\n",
      "LGBMRegressor\n",
      "Model Training Performance\n",
      "RMSE: 3.948321315049131\n",
      "MAE: 3.158691986548729\n",
      "R2 score 81.97669650794114\n",
      "===================================\n",
      "\n",
      "\n"
     ]
    }
   ],
   "source": [
    "## Train multiple models\n",
    "\n",
    "models={\n",
    "    'LinearRegression':LinearRegression(),\n",
    "    'Lasso':Lasso(),\n",
    "    'Ridge':Ridge(),\n",
    "    'Elasticnet':ElasticNet(),\n",
    "    'Xgboost': XGBRegressor(),\n",
    "    'SVR': SVR(),\n",
    "    'RandomForestRegressor':RandomForestRegressor(),\n",
    "    'LGBMRegressor':LGBMRegressor()\n",
    "    \n",
    "}\n",
    "trained_model_list=[]\n",
    "model_list=[]\n",
    "r2_list=[]\n",
    "\n",
    "for i in range(len(list(models))):\n",
    "    model=list(models.values())[i]\n",
    "    model.fit(X_train,y_train)\n",
    "\n",
    "    #Make Predictions\n",
    "    y_pred=model.predict(X_test)\n",
    "\n",
    "    mae, rmse, r2_square=evaluate_model(y_test,y_pred)\n",
    "\n",
    "    print(list(models.keys())[i])\n",
    "    model_list.append(list(models.keys())[i])\n",
    "\n",
    "    print('Model Training Performance')\n",
    "    print(\"RMSE:\",rmse)\n",
    "    print(\"MAE:\",mae)\n",
    "    print(\"R2 score\",r2_square*100)\n",
    "\n",
    "    r2_list.append(r2_square)\n",
    "    \n",
    "    print('='*35)\n",
    "    print('\\n')"
   ]
  },
  {
   "cell_type": "code",
   "execution_count": 20,
   "metadata": {},
   "outputs": [],
   "source": [
    "\n",
    "svm_parameters={\n",
    "    'C':[1,2,3,4],\n",
    "    'espilon':[0.01,0.05,0.075,0.1],\n",
    "    'degree':[1,2,3,4,5]\n",
    "}\n",
    "xgb_parameter={\n",
    "    'max_depth':[10,20,30,40],\n",
    "    'learning_rate':[0.001,0.01,0.1],\n",
    "    'n_estimators':[10,20,30,40],\n",
    "    'reg_lambda':[0.1,1,5,10,100],\n",
    "    \n",
    "}\n"
   ]
  }
 ],
 "metadata": {
  "kernelspec": {
   "display_name": "Python 3.8.10 64-bit",
   "language": "python",
   "name": "python3"
  },
  "language_info": {
   "codemirror_mode": {
    "name": "ipython",
    "version": 3
   },
   "file_extension": ".py",
   "mimetype": "text/x-python",
   "name": "python",
   "nbconvert_exporter": "python",
   "pygments_lexer": "ipython3",
   "version": "3.8.10"
  },
  "orig_nbformat": 4,
  "vscode": {
   "interpreter": {
    "hash": "e7370f93d1d0cde622a1f8e1c04877d8463912d04d973331ad4851f04de6915a"
   }
  }
 },
 "nbformat": 4,
 "nbformat_minor": 2
}
